{
 "cells": [
  {
   "cell_type": "code",
   "execution_count": 1,
   "id": "ca51e740-b09d-4812-bf28-6284343eb0a6",
   "metadata": {},
   "outputs": [
    {
     "name": "stdout",
     "output_type": "stream",
     "text": [
      "TensorFlow has access to the following devices:\n",
      "[PhysicalDevice(name='/physical_device:CPU:0', device_type='CPU'), PhysicalDevice(name='/physical_device:GPU:0', device_type='GPU')]\n",
      "TensorFlow version: 2.15.0\n"
     ]
    }
   ],
   "source": [
    "\n",
    "import tensorflow as tf\n",
    "\n",
    "# Check for TensorFlow GPU access\n",
    "print(f\"TensorFlow has access to the following devices:\\n{tf.config.list_physical_devices()}\")\n",
    "\n",
    "# See TensorFlow version\n",
    "print(f\"TensorFlow version: {tf.__version__}\")"
   ]
  },
  {
   "cell_type": "code",
   "execution_count": 5,
   "id": "390390b2-983b-45f0-8840-ea680ad09d83",
   "metadata": {},
   "outputs": [],
   "source": [
    "gpus= tf.config.list_physical_devices('GPU')"
   ]
  },
  {
   "cell_type": "code",
   "execution_count": 6,
   "id": "0a790046-e443-452a-b2a3-f9e187060cec",
   "metadata": {},
   "outputs": [],
   "source": [
    "tf.config.set_visible_devices(gpus[0],'GPU')"
   ]
  },
  {
   "cell_type": "code",
   "execution_count": null,
   "id": "8de4acde-7b78-45aa-9fcb-edea23de48e5",
   "metadata": {},
   "outputs": [],
   "source": [
    "# check tensorflow working on CPU or GPU\n"
   ]
  }
 ],
 "metadata": {
  "kernelspec": {
   "display_name": "Python 3 (ipykernel)",
   "language": "python",
   "name": "python3"
  },
  "language_info": {
   "codemirror_mode": {
    "name": "ipython",
    "version": 3
   },
   "file_extension": ".py",
   "mimetype": "text/x-python",
   "name": "python",
   "nbconvert_exporter": "python",
   "pygments_lexer": "ipython3",
   "version": "3.9.18"
  }
 },
 "nbformat": 4,
 "nbformat_minor": 5
}
