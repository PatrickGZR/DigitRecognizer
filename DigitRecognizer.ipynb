{
 "cells": [
  {
   "cell_type": "code",
   "execution_count": 17,
   "id": "c08afcbd-dcfa-481d-83ad-ba1d76edbce1",
   "metadata": {},
   "outputs": [],
   "source": [
    "import pandas as pd\n",
    "import numpy as np\n",
    "import matplotlib.pyplot as plt\n",
    "import matplotlib.image as mpimg\n",
    "import seaborn as sns\n",
    "%matplotlib inline\n",
    "\n",
    "np.random.seed(2)\n",
    "\n",
    "from sklearn.model_selection import train_test_split\n",
    "from sklearn.metrics import confusion_matrix\n",
    "import itertools\n",
    "\n",
    "#from keras.utils.np_utils import to_categorical # convert to one-hot-encoding\n",
    "# for keras > 2.0, use the following code\n",
    "\n",
    "from keras.utils import to_categorical # convert to one-hot-encoding\n",
    "from keras.models import Sequential\n",
    "from keras.layers import Dense, Dropout, Flatten, Conv2D, MaxPool2D\n",
    "from keras.optimizers import RMSprop\n",
    "from keras.preprocessing.image import ImageDataGenerator\n",
    "from keras.callbacks import ReduceLROnPlateau\n",
    "\n",
    "\n",
    "sns.set(style='white', context='notebook', palette='deep')\n"
   ]
  },
  {
   "cell_type": "code",
   "execution_count": 18,
   "id": "83a0a3e2-94c0-4071-be19-4bfb5a27f41c",
   "metadata": {},
   "outputs": [],
   "source": [
    "import tensorflow as tf\n",
    "gpus= tf.config.list_physical_devices('GPU')\n",
    "tf.config.set_visible_devices(gpus[0],'GPU')"
   ]
  },
  {
   "cell_type": "code",
   "execution_count": 19,
   "id": "7e3a7f14-2051-4c1b-b57e-48f8d4404f47",
   "metadata": {},
   "outputs": [],
   "source": [
    "train_data = pd.read_csv(\"./data/train.csv\")\n",
    "test_data = pd.read_csv(\"./data/test.csv\")"
   ]
  },
  {
   "cell_type": "code",
   "execution_count": 20,
   "id": "6a4967ba-5006-4e84-87f8-fc55cc4c3f86",
   "metadata": {},
   "outputs": [
    {
     "name": "stdout",
     "output_type": "stream",
     "text": [
      "Index(['label', 'pixel0', 'pixel1', 'pixel2', 'pixel3', 'pixel4', 'pixel5',\n",
      "       'pixel6', 'pixel7', 'pixel8',\n",
      "       ...\n",
      "       'pixel774', 'pixel775', 'pixel776', 'pixel777', 'pixel778', 'pixel779',\n",
      "       'pixel780', 'pixel781', 'pixel782', 'pixel783'],\n",
      "      dtype='object', length=785)\n",
      "(42000, 785)\n",
      "Index(['pixel0', 'pixel1', 'pixel2', 'pixel3', 'pixel4', 'pixel5', 'pixel6',\n",
      "       'pixel7', 'pixel8', 'pixel9',\n",
      "       ...\n",
      "       'pixel774', 'pixel775', 'pixel776', 'pixel777', 'pixel778', 'pixel779',\n",
      "       'pixel780', 'pixel781', 'pixel782', 'pixel783'],\n",
      "      dtype='object', length=784)\n",
      "(28000, 784)\n",
      "<bound method NDFrame.head of        label  pixel0  pixel1  pixel2  pixel3  pixel4  pixel5  pixel6  pixel7  \\\n",
      "0          1       0       0       0       0       0       0       0       0   \n",
      "1          0       0       0       0       0       0       0       0       0   \n",
      "2          1       0       0       0       0       0       0       0       0   \n",
      "3          4       0       0       0       0       0       0       0       0   \n",
      "4          0       0       0       0       0       0       0       0       0   \n",
      "...      ...     ...     ...     ...     ...     ...     ...     ...     ...   \n",
      "41995      0       0       0       0       0       0       0       0       0   \n",
      "41996      1       0       0       0       0       0       0       0       0   \n",
      "41997      7       0       0       0       0       0       0       0       0   \n",
      "41998      6       0       0       0       0       0       0       0       0   \n",
      "41999      9       0       0       0       0       0       0       0       0   \n",
      "\n",
      "       pixel8  ...  pixel774  pixel775  pixel776  pixel777  pixel778  \\\n",
      "0           0  ...         0         0         0         0         0   \n",
      "1           0  ...         0         0         0         0         0   \n",
      "2           0  ...         0         0         0         0         0   \n",
      "3           0  ...         0         0         0         0         0   \n",
      "4           0  ...         0         0         0         0         0   \n",
      "...       ...  ...       ...       ...       ...       ...       ...   \n",
      "41995       0  ...         0         0         0         0         0   \n",
      "41996       0  ...         0         0         0         0         0   \n",
      "41997       0  ...         0         0         0         0         0   \n",
      "41998       0  ...         0         0         0         0         0   \n",
      "41999       0  ...         0         0         0         0         0   \n",
      "\n",
      "       pixel779  pixel780  pixel781  pixel782  pixel783  \n",
      "0             0         0         0         0         0  \n",
      "1             0         0         0         0         0  \n",
      "2             0         0         0         0         0  \n",
      "3             0         0         0         0         0  \n",
      "4             0         0         0         0         0  \n",
      "...         ...       ...       ...       ...       ...  \n",
      "41995         0         0         0         0         0  \n",
      "41996         0         0         0         0         0  \n",
      "41997         0         0         0         0         0  \n",
      "41998         0         0         0         0         0  \n",
      "41999         0         0         0         0         0  \n",
      "\n",
      "[42000 rows x 785 columns]>\n"
     ]
    }
   ],
   "source": [
    "#Basic Exploration\n",
    "print(train_data.columns)\n",
    "print(train_data.shape)\n",
    "print(test_data.columns)\n",
    "print(test_data.shape)\n",
    "print(train_data.head)\n"
   ]
  },
  {
   "cell_type": "code",
   "execution_count": 21,
   "id": "2a2ab174-775d-4246-8eea-89f98c0ad77c",
   "metadata": {},
   "outputs": [],
   "source": [
    "# Extracting features and target column\n",
    "X = train_data.drop('label', axis = 1)\n",
    "y = train_data['label']\n"
   ]
  },
  {
   "cell_type": "code",
   "execution_count": 22,
   "id": "661115f2-f3e1-40c4-8b9c-87c382515854",
   "metadata": {},
   "outputs": [],
   "source": [
    "# Step 2: Data Preprocessing\n",
    "\n",
    "X = X.values\n",
    "\n",
    "# Reshape the input images to the required format (assuming channels last)\n",
    "X = X.reshape(-1, 28, 28, 1).astype('float32') / 255.0\n",
    "\n",
    "# One-hot encode the labels\n",
    "y = to_categorical(y, 10)"
   ]
  },
  {
   "cell_type": "code",
   "execution_count": 23,
   "id": "5967b90f-d88c-4426-838f-e55c3fbc9b80",
   "metadata": {},
   "outputs": [],
   "source": [
    "from tensorflow.keras import Sequential\n",
    "from tensorflow.keras.layers import Conv2D, MaxPooling2D, Flatten, Dense\n",
    "\n",
    "# Define the CNN model\n",
    "model = Sequential()\n",
    "\n",
    "# Convolutional layers\n",
    "model.add(Conv2D(32, (3, 3), activation='relu', input_shape=(28, 28, 1)))\n",
    "model.add(MaxPooling2D((2, 2)))\n",
    "\n",
    "model.add(Conv2D(64, (3, 3), activation='relu'))\n",
    "model.add(MaxPooling2D((2, 2)))\n",
    "\n",
    "model.add(Conv2D(64, (3, 3), activation='relu'))\n",
    "\n",
    "# Fully connected layers\n",
    "model.add(Flatten())\n",
    "model.add(Dense(64, activation='relu'))\n",
    "model.add(Dense(10, activation='softmax'))  # 10 classes for digits 0-9"
   ]
  },
  {
   "cell_type": "code",
   "execution_count": 24,
   "id": "7bb33abe-9c20-4fa8-8882-20434ce2be65",
   "metadata": {},
   "outputs": [],
   "source": [
    "model.compile(optimizer='adam',\n",
    "              loss='categorical_crossentropy',\n",
    "              metrics=['accuracy'])"
   ]
  },
  {
   "cell_type": "code",
   "execution_count": 25,
   "id": "656675d4-0e18-434c-88dd-ccfcc825c555",
   "metadata": {},
   "outputs": [
    {
     "name": "stdout",
     "output_type": "stream",
     "text": [
      "Epoch 1/10\n",
      "657/657 [==============================] - 7s 10ms/step - loss: 0.4997 - accuracy: 0.8626\n",
      "Epoch 2/10\n",
      "657/657 [==============================] - 6s 10ms/step - loss: 0.1720 - accuracy: 0.9479\n",
      "Epoch 3/10\n",
      "657/657 [==============================] - 7s 10ms/step - loss: 0.5357 - accuracy: 0.8435\n",
      "Epoch 4/10\n",
      "657/657 [==============================] - 6s 10ms/step - loss: 0.2373 - accuracy: 0.9286\n",
      "Epoch 5/10\n",
      "657/657 [==============================] - 6s 10ms/step - loss: 0.1629 - accuracy: 0.9487\n",
      "Epoch 6/10\n",
      "657/657 [==============================] - 6s 10ms/step - loss: 0.1315 - accuracy: 0.9591\n",
      "Epoch 7/10\n",
      "657/657 [==============================] - 6s 10ms/step - loss: 0.1115 - accuracy: 0.9646\n",
      "Epoch 8/10\n",
      "657/657 [==============================] - 6s 10ms/step - loss: 0.0955 - accuracy: 0.9702\n",
      "Epoch 9/10\n",
      "657/657 [==============================] - 6s 10ms/step - loss: 0.0845 - accuracy: 0.9740\n",
      "Epoch 10/10\n",
      "657/657 [==============================] - 6s 10ms/step - loss: 0.4697 - accuracy: 0.9157\n"
     ]
    },
    {
     "data": {
      "text/plain": [
       "<keras.src.callbacks.History at 0x2a7a9fa00>"
      ]
     },
     "execution_count": 25,
     "metadata": {},
     "output_type": "execute_result"
    }
   ],
   "source": [
    "model.fit(X, y, epochs=10, batch_size=64)"
   ]
  },
  {
   "cell_type": "code",
   "execution_count": 26,
   "id": "ef8490df-4b64-4a31-8e9a-f2ca909897b7",
   "metadata": {},
   "outputs": [],
   "source": [
    "X_test = test_data\n",
    "X_test = X_test.values"
   ]
  },
  {
   "cell_type": "code",
   "execution_count": 27,
   "id": "4784e89a-61ca-4b7f-9529-39529d216826",
   "metadata": {},
   "outputs": [],
   "source": [
    "X_test = X_test.reshape(-1, 28, 28, 1).astype('float32') / 255.0"
   ]
  },
  {
   "cell_type": "code",
   "execution_count": 28,
   "id": "dcdf5484-ca5f-4115-b0dd-da425b695a3d",
   "metadata": {},
   "outputs": [
    {
     "name": "stdout",
     "output_type": "stream",
     "text": [
      "875/875 [==============================] - 1s 1ms/step\n"
     ]
    }
   ],
   "source": [
    "predictions = model.predict(X_test)"
   ]
  },
  {
   "cell_type": "code",
   "execution_count": 29,
   "id": "1eb61b73-bad3-4bf6-8187-334e9563f6e6",
   "metadata": {},
   "outputs": [],
   "source": [
    "predicted_classes = np.argmax(predictions, axis=1)\n",
    "predicted_classes = predicted_classes.reshape(-1, 1)"
   ]
  },
  {
   "cell_type": "code",
   "execution_count": 30,
   "id": "9b1b3df5-5cf2-4618-91b0-6e1fb27eee28",
   "metadata": {},
   "outputs": [],
   "source": [
    "imageIds = [i for i in range(1,len(predictions)+1)]\n",
    "df = pd.DataFrame()\n",
    "df.insert(0, 'ImageId', imageIds)\n",
    "df.insert(1, 'Label', predicted_classes)"
   ]
  },
  {
   "cell_type": "code",
   "execution_count": 31,
   "id": "f3aceb40-dde9-49b8-bc8c-b5e03c843948",
   "metadata": {},
   "outputs": [],
   "source": [
    "df.to_csv('predictions.csv', index=False)\n"
   ]
  }
 ],
 "metadata": {
  "kernelspec": {
   "display_name": "Python 3 (ipykernel)",
   "language": "python",
   "name": "python3"
  },
  "language_info": {
   "codemirror_mode": {
    "name": "ipython",
    "version": 3
   },
   "file_extension": ".py",
   "mimetype": "text/x-python",
   "name": "python",
   "nbconvert_exporter": "python",
   "pygments_lexer": "ipython3",
   "version": "3.9.18"
  }
 },
 "nbformat": 4,
 "nbformat_minor": 5
}
